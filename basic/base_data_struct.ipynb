{
 "cells": [
  {
   "cell_type": "markdown",
   "metadata": {},
   "source": [
    "# namedtuple表示简单类 #\n",
    "自 Python 2.6 开始，namedtuple 就加入到 Python 里，用以构建只有少数属性但是没有方法的对象，比如数据库条目。"
   ]
  },
  {
   "cell_type": "code",
   "execution_count": 1,
   "metadata": {},
   "outputs": [
    {
     "name": "stdout",
     "output_type": "stream",
     "text": [
      "Card(rank='7', suit='diamonds')\n"
     ]
    }
   ],
   "source": [
    "import collections\n",
    "#创建一个简单的Card类,它有rank和suit两个属性。\n",
    "Card = collections.namedtuple('Card', ['rank', 'suit'])\n",
    "beer_card = Card('7', 'diamonds')\n",
    "print(beer_card)"
   ]
  },
  {
   "cell_type": "markdown",
   "metadata": {},
   "source": [
    "# 通过特殊方法支持系统调用"
   ]
  },
  {
   "cell_type": "code",
   "execution_count": 2,
   "metadata": {},
   "outputs": [],
   "source": [
    "from math import hypot\n",
    "\n",
    "class Vector:\n",
    "    #支持类的初始化\n",
    "    def __init__(self, x=0, y=0):\n",
    "        self.x = x\n",
    "        self.y = y\n",
    "    #字符串函数\n",
    "    def __repr__(self):\n",
    "        return 'Vector(%r, %r)' % (self.x, self.y)\n",
    "    #支持abs()函数\n",
    "    def __abs__(self):\n",
    "        return hypot(self.x, self.y)\n",
    "    #支持条件判断\n",
    "    def __bool__(self):\n",
    "        return bool(abs(self))\n",
    "    #支持系统+操作\n",
    "    def __add__(self, other):\n",
    "        x = self.x + other.x\n",
    "        y = self.y + other.y\n",
    "        return Vector(x, y)\n",
    "    #支持系统*操作\n",
    "    def __mul__(self, scalar):\n",
    "        return Vector(self.x * scalar, self.y * scalar)"
   ]
  },
  {
   "cell_type": "code",
   "execution_count": 3,
   "metadata": {},
   "outputs": [
    {
     "name": "stdout",
     "output_type": "stream",
     "text": [
      "Vector(3, 5)\n"
     ]
    }
   ],
   "source": [
    "print(Vector(2,3)+Vector(1,2))"
   ]
  },
  {
   "cell_type": "markdown",
   "metadata": {},
   "source": [
    "# 生成器表达式\n",
    "虽然也可以用列表推导来初始化元组、数组或其他序列类型，但是生成器表达式是更好的选择。这是因为生成器表达式背后遵守了迭代器协议，可以逐个地产出元素，而不是先建立一个完整的列表，然后再把这个列表传递到某个构造函数里。前面那种方式显然能够节省内存。\n",
    "\n",
    "生成器表达式的语法跟列表推导差不多，只不过把方括号换成圆括号而已。"
   ]
  },
  {
   "cell_type": "code",
   "execution_count": 4,
   "metadata": {},
   "outputs": [
    {
     "name": "stdout",
     "output_type": "stream",
     "text": [
      "(36, 162, 163, 165, 8364, 164)\n"
     ]
    }
   ],
   "source": [
    "symbols = '$¢£¥€¤'\n",
    "tup=tuple(ord(symbol) for symbol in symbols)\n",
    "print(tup)"
   ]
  },
  {
   "cell_type": "markdown",
   "metadata": {},
   "source": [
    "# 元组拆包，可以使用_ 占位符,用*来处理剩下的元素"
   ]
  },
  {
   "cell_type": "code",
   "execution_count": 6,
   "metadata": {},
   "outputs": [
    {
     "name": "stdout",
     "output_type": "stream",
     "text": [
      "idrsa.pub\n",
      "0,1,[2, 3, 4]\n"
     ]
    }
   ],
   "source": [
    "import os\n",
    "_, filename = os.path.split('/home/luciano/.ssh/idrsa.pub')\n",
    "print(filename)\n",
    "a, b, *rest = range(5)\n",
    "print('%r,%r,%r' % (a,b, rest))"
   ]
  },
  {
   "cell_type": "markdown",
   "metadata": {},
   "source": [
    "# 切片对象：slice(start, end, step)"
   ]
  },
  {
   "cell_type": "code",
   "execution_count": 7,
   "metadata": {},
   "outputs": [
    {
     "name": "stdout",
     "output_type": "stream",
     "text": [
      "   $17.50    Pimoroni PiBrella                 \n",
      "    $4.95    6mm Tactile Switch x20            \n",
      "   $28.00    Panavise Jr. - PV-201             \n",
      "   $34.95    PiTFT Mini Kit 320x240            \n",
      " \n"
     ]
    }
   ],
   "source": [
    "invoice = \"\"\"\n",
    "0.....6................................40........52...55........\n",
    "1909  Pimoroni PiBrella                    $17.50    3    $52.50\n",
    "1489  6mm Tactile Switch x20                $4.95    2     $9.90\n",
    "1510  Panavise Jr. - PV-201                $28.00    1    $28.00\n",
    "1601  PiTFT Mini Kit 320x240               $34.95    1    $34.95\n",
    "\"\"\"\n",
    "SKU = slice(0, 6)\n",
    "DESCRIPTION = slice(6, 40)\n",
    "UNIT_PRICE = slice(40, 52)\n",
    "QUANTITY = slice(52, 55)\n",
    "ITEM_TOTAL = slice(55, None)\n",
    "line_items = invoice.split('\\n')[2:]\n",
    "for item in line_items:\n",
    "    print(item[UNIT_PRICE], item[DESCRIPTION])"
   ]
  },
  {
   "cell_type": "markdown",
   "metadata": {},
   "source": [
    "# 数组的创建和保存"
   ]
  },
  {
   "cell_type": "code",
   "execution_count": 1,
   "metadata": {},
   "outputs": [
    {
     "name": "stdout",
     "output_type": "stream",
     "text": [
      "0.9622449713118566\n",
      "0.9622449713118566\n"
     ]
    }
   ],
   "source": [
    "from array import array\n",
    "from random import random\n",
    "floats=array('d',(random() for i in range(10**7)))\n",
    "print(floats[-1])\n",
    "fp=open('floats.bin','wb')\n",
    "floats.tofile(fp)\n",
    "fp.close\n",
    "floats2=array('d')\n",
    "fp=open('floats.bin','rb')\n",
    "floats2.fromfile(fp,10**7)\n",
    "fp.close()\n",
    "print(floats2[-1])"
   ]
  },
  {
   "cell_type": "markdown",
   "metadata": {},
   "source": [
    "# 通过memoryview操作和改变数组的值"
   ]
  },
  {
   "cell_type": "code",
   "execution_count": 3,
   "metadata": {},
   "outputs": [
    {
     "name": "stdout",
     "output_type": "stream",
     "text": [
      "5\n",
      "-2\n",
      "[254, 255, 255, 255, 0, 0, 1, 0, 2, 0]\n",
      "array('h', [-2, -1, 1024, 1, 2])\n"
     ]
    }
   ],
   "source": [
    "numbers=array('h',[-2,-1,0,1,2])\n",
    "memv=memoryview(numbers)\n",
    "print(len(memv))\n",
    "print(memv[0])\n",
    "#转换内存的类型\n",
    "memv_oct=memv.cast('B')\n",
    "print(memv_oct.tolist())\n",
    "memv_oct[5]=4\n",
    "print(numbers)"
   ]
  },
  {
   "cell_type": "markdown",
   "metadata": {},
   "source": [
    "# 双向队列deque(线程安全)"
   ]
  },
  {
   "cell_type": "code",
   "execution_count": 1,
   "metadata": {},
   "outputs": [
    {
     "name": "stdout",
     "output_type": "stream",
     "text": [
      "deque([0, 1, 2, 3, 4, 5, 6, 7, 8, 9], maxlen=10)\n",
      "deque([7, 8, 9, 0, 1, 2, 3, 4, 5, 6], maxlen=10)\n",
      "deque([1, 2, 3, 4, 5, 6, 7, 8, 9, 0], maxlen=10)\n",
      "deque([-1, 1, 2, 3, 4, 5, 6, 7, 8, 9], maxlen=10)\n",
      "deque([3, 4, 5, 6, 7, 8, 9, 11, 22, 33], maxlen=10)\n"
     ]
    }
   ],
   "source": [
    "from collections import deque\n",
    "dp=deque(range(10),maxlen=10)\n",
    "print(dp)\n",
    "dp.rotate(3)\n",
    "print(dp)\n",
    "dp.rotate(-4)\n",
    "print(dp)\n",
    "dp.appendleft(-1)\n",
    "print(dp)\n",
    "dp.extend([11,22,33])\n",
    "print(dp)\n",
    "dp.extendleft([10,20,30,40])"
   ]
  },
  {
   "cell_type": "markdown",
   "metadata": {},
   "source": [
    "# 实现只读映射\n",
    "python系统库是没有只读映射的，但是可以通过MappingProxyType来实现只读代理"
   ]
  },
  {
   "cell_type": "code",
   "execution_count": 2,
   "metadata": {},
   "outputs": [
    {
     "name": "stdout",
     "output_type": "stream",
     "text": [
      "{1: 'A'}\n"
     ]
    },
    {
     "ename": "TypeError",
     "evalue": "'mappingproxy' object does not support item assignment",
     "output_type": "error",
     "traceback": [
      "\u001b[0;31m---------------------------------------------------------------------------\u001b[0m",
      "\u001b[0;31mTypeError\u001b[0m                                 Traceback (most recent call last)",
      "\u001b[0;32m<ipython-input-2-ae8a11b34e04>\u001b[0m in \u001b[0;36m<module>\u001b[0;34m()\u001b[0m\n\u001b[1;32m      3\u001b[0m \u001b[0md_proxy\u001b[0m\u001b[0;34m=\u001b[0m\u001b[0mMappingProxyType\u001b[0m\u001b[0;34m(\u001b[0m\u001b[0md\u001b[0m\u001b[0;34m)\u001b[0m\u001b[0;34m\u001b[0m\u001b[0m\n\u001b[1;32m      4\u001b[0m \u001b[0mprint\u001b[0m\u001b[0;34m(\u001b[0m\u001b[0md_proxy\u001b[0m\u001b[0;34m)\u001b[0m\u001b[0;34m\u001b[0m\u001b[0m\n\u001b[0;32m----> 5\u001b[0;31m \u001b[0md_proxy\u001b[0m\u001b[0;34m[\u001b[0m\u001b[0;36m2\u001b[0m\u001b[0;34m]\u001b[0m\u001b[0;34m=\u001b[0m\u001b[0;34m'x'\u001b[0m\u001b[0;34m\u001b[0m\u001b[0m\n\u001b[0m",
      "\u001b[0;31mTypeError\u001b[0m: 'mappingproxy' object does not support item assignment"
     ]
    }
   ],
   "source": [
    "from types import MappingProxyType\n",
    "d={1:'A'}\n",
    "d_proxy=MappingProxyType(d)\n",
    "print(d_proxy)\n",
    "d_proxy[2]='x'"
   ]
  },
  {
   "cell_type": "markdown",
   "metadata": {},
   "source": [
    "# Python使用struct处理二进制\n",
    "有的时候需要用python处理二进制数据，比如，存取文件，socket操作时.这时候，可以使用python的struct模块来完成.可以用 struct来处理c语言中的结构体.\n",
    " \n",
    "\n",
    "struct模块中最重要的三个函数是pack(), unpack(), calcsize()\n",
    "\n",
    "pack(fmt, v1, v2, ...)     按照给定的格式(fmt)，把数据封装成字符串(实际上是类似于c结构体的字节流)\n",
    "\n",
    "unpack(fmt, string)       按照给定的格式(fmt)解析字节流string，返回解析出来的tuple\n",
    "\n",
    "calcsize(fmt)                 计算给定的格式(fmt)占用多少字节的内存\n",
    " \n",
    "\n",
    "struct中支持的格式如下表：\n",
    "\n",
    "|Format|C Type|Python|字节数|\n",
    "|------|------|------|------|\n",
    "|x|pad byte|no valu|1|\n",
    "|c|char|string of length 1|1|\n",
    "|b|signed char|integer|1|\n",
    "|B|unsigned char|integer|1|\n",
    "|?|_Bool|bool|1|\n",
    "|h|short|integer|2|\n",
    "|H|unsigned short|integer|2|\n",
    "|i|int|integer|4|\n",
    "|I|unsigned int|integer or long|4|\n",
    "|l|long|integer|4|\n",
    "|L|unsigned long|long|4|\n",
    "|q|long long|long|8|\n",
    "|Q|unsigned long long|long|8|\n",
    "|f|float|float|4|\n",
    "|d|double|float|8|\n",
    "|s|char[]|string|1|\n",
    "|p|char[]|string|1|\n",
    "|P|void |long|\n",
    "\n",
    "\n",
    "为了同c中的结构体交换数据，还要考虑有的c或c++编译器使用了字节对齐，通常是以4个字节为单位的32位系统，故而struct根据本地机器字节顺序转换.可以用格式中的第一个字符来改变对齐方式.定义如下：\n",
    "\n",
    "|Character|Byte order|Size and alignment|\n",
    "|----|-----|----|\n",
    "|@|native|native            凑够4个字节|\n",
    "|=|native|standard        按原字节数|\n",
    "|<|little-endian|standard        按原字节数|\n",
    "|>|big-endian|standard       按原字节数|\n",
    "|!|network (= big-endian)|standard       按原字节数|\n"
   ]
  },
  {
   "cell_type": "markdown",
   "metadata": {},
   "source": [
    "# 内置归约函数\n",
    "all(iterable) 如果iterable的每个元素是真值，返回True。\n",
    "\n",
    "any(iterable) 只要iterable中有元素是真值，就返回True。"
   ]
  },
  {
   "cell_type": "markdown",
   "metadata": {},
   "source": [
    "# python中有很多可调用类型，可用callable()判断"
   ]
  },
  {
   "cell_type": "code",
   "execution_count": 3,
   "metadata": {},
   "outputs": [
    {
     "name": "stdout",
     "output_type": "stream",
     "text": [
      "[True, True, False]\n"
     ]
    }
   ],
   "source": [
    "print([callable(obj) for obj in (abs,str,13)])"
   ]
  },
  {
   "cell_type": "code",
   "execution_count": null,
   "metadata": {},
   "outputs": [],
   "source": []
  }
 ],
 "metadata": {
  "kernelspec": {
   "display_name": "Python 3",
   "language": "python",
   "name": "python3"
  },
  "language_info": {
   "codemirror_mode": {
    "name": "ipython",
    "version": 3
   },
   "file_extension": ".py",
   "mimetype": "text/x-python",
   "name": "python",
   "nbconvert_exporter": "python",
   "pygments_lexer": "ipython3",
   "version": "3.6.6"
  }
 },
 "nbformat": 4,
 "nbformat_minor": 2
}
